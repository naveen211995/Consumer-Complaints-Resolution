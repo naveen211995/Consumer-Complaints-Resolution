{
  "nbformat": 4,
  "nbformat_minor": 0,
  "metadata": {
    "colab": {
      "name": "Consumer_Complaints_Resolution.ipynb",
      "provenance": [],
      "collapsed_sections": [],
      "machine_shape": "hm"
    },
    "kernelspec": {
      "name": "python3",
      "display_name": "Python 3"
    },
    "accelerator": "GPU"
  },
  "cells": [
    {
      "cell_type": "markdown",
      "metadata": {
        "id": "R4X5yhz2N5sF",
        "colab_type": "text"
      },
      "source": [
        "# **Consumer Complaint Resolution -- Predicting Whether Consumer will dispute or not**"
      ]
    },
    {
      "cell_type": "code",
      "metadata": {
        "id": "nsK_Fh3NOCuA",
        "colab_type": "code",
        "colab": {}
      },
      "source": [
        "import numpy as np\n",
        "import pandas as pd\n",
        "from pandas import DataFrame, Series"
      ],
      "execution_count": 0,
      "outputs": []
    },
    {
      "cell_type": "markdown",
      "metadata": {
        "id": "HKz0JqV1Oo-a",
        "colab_type": "text"
      },
      "source": [
        "## **Exploratory Data Analysis**"
      ]
    },
    {
      "cell_type": "code",
      "metadata": {
        "id": "ZK8-GA5-M8f8",
        "colab_type": "code",
        "colab": {}
      },
      "source": [
        "!wget 'https://www.dropbox.com/s/542c7lq76uyrdr3/Consumer_Complaints_train.csv'"
      ],
      "execution_count": 0,
      "outputs": []
    },
    {
      "cell_type": "code",
      "metadata": {
        "id": "FttuyXVYOngN",
        "colab_type": "code",
        "colab": {}
      },
      "source": [
        "df= pd.read_csv('/content/Consumer_Complaints_train.csv')"
      ],
      "execution_count": 0,
      "outputs": []
    },
    {
      "cell_type": "code",
      "metadata": {
        "id": "w1pvPft9OzXs",
        "colab_type": "code",
        "outputId": "74af804d-f8ac-4f02-d599-1ca1b07e26d3",
        "colab": {
          "base_uri": "https://localhost:8080/",
          "height": 539
        }
      },
      "source": [
        "df.head()"
      ],
      "execution_count": 4,
      "outputs": [
        {
          "output_type": "execute_result",
          "data": {
            "text/html": [
              "<div>\n",
              "<style scoped>\n",
              "    .dataframe tbody tr th:only-of-type {\n",
              "        vertical-align: middle;\n",
              "    }\n",
              "\n",
              "    .dataframe tbody tr th {\n",
              "        vertical-align: top;\n",
              "    }\n",
              "\n",
              "    .dataframe thead th {\n",
              "        text-align: right;\n",
              "    }\n",
              "</style>\n",
              "<table border=\"1\" class=\"dataframe\">\n",
              "  <thead>\n",
              "    <tr style=\"text-align: right;\">\n",
              "      <th></th>\n",
              "      <th>Date received</th>\n",
              "      <th>Product</th>\n",
              "      <th>Sub-product</th>\n",
              "      <th>Issue</th>\n",
              "      <th>Sub-issue</th>\n",
              "      <th>Consumer complaint narrative</th>\n",
              "      <th>Company public response</th>\n",
              "      <th>Company</th>\n",
              "      <th>State</th>\n",
              "      <th>ZIP code</th>\n",
              "      <th>Tags</th>\n",
              "      <th>Consumer consent provided?</th>\n",
              "      <th>Submitted via</th>\n",
              "      <th>Date sent to company</th>\n",
              "      <th>Company response to consumer</th>\n",
              "      <th>Timely response?</th>\n",
              "      <th>Consumer disputed?</th>\n",
              "      <th>Complaint ID</th>\n",
              "    </tr>\n",
              "  </thead>\n",
              "  <tbody>\n",
              "    <tr>\n",
              "      <th>0</th>\n",
              "      <td>2014-05-15</td>\n",
              "      <td>Credit card</td>\n",
              "      <td>NaN</td>\n",
              "      <td>Billing statement</td>\n",
              "      <td>NaN</td>\n",
              "      <td>NaN</td>\n",
              "      <td>NaN</td>\n",
              "      <td>Wells Fargo &amp; Company</td>\n",
              "      <td>MI</td>\n",
              "      <td>48342</td>\n",
              "      <td>Older American</td>\n",
              "      <td>NaN</td>\n",
              "      <td>Web</td>\n",
              "      <td>2014-05-16</td>\n",
              "      <td>Closed with explanation</td>\n",
              "      <td>Yes</td>\n",
              "      <td>No</td>\n",
              "      <td>856103</td>\n",
              "    </tr>\n",
              "    <tr>\n",
              "      <th>1</th>\n",
              "      <td>2014-09-18</td>\n",
              "      <td>Bank account or service</td>\n",
              "      <td>(CD) Certificate of deposit</td>\n",
              "      <td>Making/receiving payments, sending money</td>\n",
              "      <td>NaN</td>\n",
              "      <td>NaN</td>\n",
              "      <td>NaN</td>\n",
              "      <td>Santander Bank US</td>\n",
              "      <td>PA</td>\n",
              "      <td>18042</td>\n",
              "      <td>NaN</td>\n",
              "      <td>NaN</td>\n",
              "      <td>Referral</td>\n",
              "      <td>2014-09-24</td>\n",
              "      <td>Closed</td>\n",
              "      <td>Yes</td>\n",
              "      <td>No</td>\n",
              "      <td>1034666</td>\n",
              "    </tr>\n",
              "    <tr>\n",
              "      <th>2</th>\n",
              "      <td>2014-03-13</td>\n",
              "      <td>Credit reporting</td>\n",
              "      <td>NaN</td>\n",
              "      <td>Incorrect information on credit report</td>\n",
              "      <td>Account status</td>\n",
              "      <td>NaN</td>\n",
              "      <td>NaN</td>\n",
              "      <td>Equifax</td>\n",
              "      <td>CA</td>\n",
              "      <td>92427</td>\n",
              "      <td>NaN</td>\n",
              "      <td>NaN</td>\n",
              "      <td>Referral</td>\n",
              "      <td>2014-04-03</td>\n",
              "      <td>Closed with non-monetary relief</td>\n",
              "      <td>Yes</td>\n",
              "      <td>No</td>\n",
              "      <td>756363</td>\n",
              "    </tr>\n",
              "    <tr>\n",
              "      <th>3</th>\n",
              "      <td>2015-07-17</td>\n",
              "      <td>Credit card</td>\n",
              "      <td>NaN</td>\n",
              "      <td>Billing statement</td>\n",
              "      <td>NaN</td>\n",
              "      <td>My credit card statement from US Bank, XXXX. X...</td>\n",
              "      <td>Company chooses not to provide a public response</td>\n",
              "      <td>U.S. Bancorp</td>\n",
              "      <td>GA</td>\n",
              "      <td>305XX</td>\n",
              "      <td>Older American</td>\n",
              "      <td>Consent provided</td>\n",
              "      <td>Web</td>\n",
              "      <td>2015-07-17</td>\n",
              "      <td>Closed with monetary relief</td>\n",
              "      <td>Yes</td>\n",
              "      <td>No</td>\n",
              "      <td>1474177</td>\n",
              "    </tr>\n",
              "    <tr>\n",
              "      <th>4</th>\n",
              "      <td>2014-11-20</td>\n",
              "      <td>Credit card</td>\n",
              "      <td>NaN</td>\n",
              "      <td>Transaction issue</td>\n",
              "      <td>NaN</td>\n",
              "      <td>NaN</td>\n",
              "      <td>NaN</td>\n",
              "      <td>Bank of America</td>\n",
              "      <td>MA</td>\n",
              "      <td>02127</td>\n",
              "      <td>NaN</td>\n",
              "      <td>NaN</td>\n",
              "      <td>Web</td>\n",
              "      <td>2014-11-28</td>\n",
              "      <td>Closed with explanation</td>\n",
              "      <td>Yes</td>\n",
              "      <td>No</td>\n",
              "      <td>1132572</td>\n",
              "    </tr>\n",
              "  </tbody>\n",
              "</table>\n",
              "</div>"
            ],
            "text/plain": [
              "  Date received                  Product  ... Consumer disputed? Complaint ID\n",
              "0    2014-05-15              Credit card  ...                 No       856103\n",
              "1    2014-09-18  Bank account or service  ...                 No      1034666\n",
              "2    2014-03-13         Credit reporting  ...                 No       756363\n",
              "3    2015-07-17              Credit card  ...                 No      1474177\n",
              "4    2014-11-20              Credit card  ...                 No      1132572\n",
              "\n",
              "[5 rows x 18 columns]"
            ]
          },
          "metadata": {
            "tags": []
          },
          "execution_count": 4
        }
      ]
    },
    {
      "cell_type": "code",
      "metadata": {
        "id": "I5vJHvsWO2De",
        "colab_type": "code",
        "outputId": "68fac794-82da-44b4-d235-e85d33e50411",
        "colab": {
          "base_uri": "https://localhost:8080/",
          "height": 35
        }
      },
      "source": [
        "df.shape"
      ],
      "execution_count": 5,
      "outputs": [
        {
          "output_type": "execute_result",
          "data": {
            "text/plain": [
              "(478421, 18)"
            ]
          },
          "metadata": {
            "tags": []
          },
          "execution_count": 5
        }
      ]
    },
    {
      "cell_type": "code",
      "metadata": {
        "id": "OUKZkU8zRjc6",
        "colab_type": "code",
        "outputId": "d5b5f5d7-39a0-4136-b111-78c3566c81ba",
        "colab": {
          "base_uri": "https://localhost:8080/",
          "height": 362
        }
      },
      "source": [
        "df.isnull().sum()/df.shape[0]*100"
      ],
      "execution_count": 6,
      "outputs": [
        {
          "output_type": "execute_result",
          "data": {
            "text/plain": [
              "Date received                    0.000000\n",
              "Product                          0.000000\n",
              "Sub-product                     28.943755\n",
              "Issue                            0.000000\n",
              "Sub-issue                       61.164748\n",
              "Consumer complaint narrative    84.303783\n",
              "Company public response         81.106181\n",
              "Company                          0.000000\n",
              "State                            0.802431\n",
              "ZIP code                         0.804313\n",
              "Tags                            85.952540\n",
              "Consumer consent provided?      71.680382\n",
              "Submitted via                    0.000000\n",
              "Date sent to company             0.000000\n",
              "Company response to consumer     0.000000\n",
              "Timely response?                 0.000000\n",
              "Consumer disputed?               0.000000\n",
              "Complaint ID                     0.000000\n",
              "dtype: float64"
            ]
          },
          "metadata": {
            "tags": []
          },
          "execution_count": 6
        }
      ]
    },
    {
      "cell_type": "code",
      "metadata": {
        "id": "fKxaSt2lSjq7",
        "colab_type": "code",
        "colab": {}
      },
      "source": [
        "df= df[['Date received', 'Product', 'Sub-product', 'Issue', 'Sub-issue', 'Consumer complaint narrative', 'Company public response', 'Company',\n",
        "        'State', 'ZIP code', 'Tags', 'Consumer consent provided?', 'Submitted via', 'Date sent to company', 'Company response to consumer', 'Timely response?', 'Consumer disputed?']]"
      ],
      "execution_count": 0,
      "outputs": []
    },
    {
      "cell_type": "code",
      "metadata": {
        "id": "TEiVKgtETSlQ",
        "colab_type": "code",
        "outputId": "286e0976-3f4c-43d7-8c26-0b49d041a3f6",
        "colab": {
          "base_uri": "https://localhost:8080/",
          "height": 35
        }
      },
      "source": [
        "df['Date received'].min(), df['Date received'].max()"
      ],
      "execution_count": 8,
      "outputs": [
        {
          "output_type": "execute_result",
          "data": {
            "text/plain": [
              "('2011-12-01', '2016-09-23')"
            ]
          },
          "metadata": {
            "tags": []
          },
          "execution_count": 8
        }
      ]
    },
    {
      "cell_type": "code",
      "metadata": {
        "id": "wUkX26iNYPAq",
        "colab_type": "code",
        "colab": {}
      },
      "source": [
        "df['Date received']= pd.to_datetime(df['Date received'])\n",
        "df['Date sent to company']= pd.to_datetime(df['Date received'])"
      ],
      "execution_count": 0,
      "outputs": []
    },
    {
      "cell_type": "code",
      "metadata": {
        "id": "eCwGR4n-PyYH",
        "colab_type": "code",
        "outputId": "fb1de50e-2fd6-461a-a336-efb7f1218cf0",
        "colab": {
          "base_uri": "https://localhost:8080/",
          "height": 253
        }
      },
      "source": [
        "df['Product'].value_counts(dropna=False)"
      ],
      "execution_count": 10,
      "outputs": [
        {
          "output_type": "execute_result",
          "data": {
            "text/plain": [
              "Mortgage                   156175\n",
              "Debt collection             86544\n",
              "Credit reporting            81115\n",
              "Credit card                 57358\n",
              "Bank account or service     54403\n",
              "Consumer Loan               18599\n",
              "Student loan                14918\n",
              "Money transfers              3349\n",
              "Payday loan                  3219\n",
              "Prepaid card                 2226\n",
              "Other financial service       507\n",
              "Virtual currency                8\n",
              "Name: Product, dtype: int64"
            ]
          },
          "metadata": {
            "tags": []
          },
          "execution_count": 10
        }
      ]
    },
    {
      "cell_type": "code",
      "metadata": {
        "id": "6WUDoheXRUtY",
        "colab_type": "code",
        "outputId": "d4f95ca2-21ba-4088-8499-9870f47ff98b",
        "colab": {
          "base_uri": "https://localhost:8080/",
          "height": 35
        }
      },
      "source": [
        "df['Issue'].value_counts().shape"
      ],
      "execution_count": 11,
      "outputs": [
        {
          "output_type": "execute_result",
          "data": {
            "text/plain": [
              "(95,)"
            ]
          },
          "metadata": {
            "tags": []
          },
          "execution_count": 11
        }
      ]
    },
    {
      "cell_type": "code",
      "metadata": {
        "id": "Ie3l8u8-O8SI",
        "colab_type": "code",
        "outputId": "18f4eff0-2216-40a0-90a6-c70ababc4578",
        "colab": {
          "base_uri": "https://localhost:8080/",
          "height": 35
        }
      },
      "source": [
        "df['Company'].value_counts(dropna=False).shape"
      ],
      "execution_count": 12,
      "outputs": [
        {
          "output_type": "execute_result",
          "data": {
            "text/plain": [
              "(3276,)"
            ]
          },
          "metadata": {
            "tags": []
          },
          "execution_count": 12
        }
      ]
    },
    {
      "cell_type": "code",
      "metadata": {
        "id": "LRLwQyArX_lh",
        "colab_type": "code",
        "outputId": "f7c72efd-18e9-4fc3-9adf-6bb18be1430a",
        "colab": {
          "base_uri": "https://localhost:8080/",
          "height": 35
        }
      },
      "source": [
        "df['State'].value_counts(dropna=False).shape"
      ],
      "execution_count": 13,
      "outputs": [
        {
          "output_type": "execute_result",
          "data": {
            "text/plain": [
              "(63,)"
            ]
          },
          "metadata": {
            "tags": []
          },
          "execution_count": 13
        }
      ]
    },
    {
      "cell_type": "code",
      "metadata": {
        "id": "d8mZjk25T81h",
        "colab_type": "code",
        "outputId": "f232e956-da98-4ad1-d270-f958408f8e25",
        "colab": {
          "base_uri": "https://localhost:8080/",
          "height": 144
        }
      },
      "source": [
        "df['Submitted via'].value_counts(dropna=False)"
      ],
      "execution_count": 14,
      "outputs": [
        {
          "output_type": "execute_result",
          "data": {
            "text/plain": [
              "Web            313916\n",
              "Referral        91352\n",
              "Phone           34417\n",
              "Postal mail     31448\n",
              "Fax              7032\n",
              "Email             256\n",
              "Name: Submitted via, dtype: int64"
            ]
          },
          "metadata": {
            "tags": []
          },
          "execution_count": 14
        }
      ]
    },
    {
      "cell_type": "code",
      "metadata": {
        "id": "kQzsMyytSFzx",
        "colab_type": "code",
        "outputId": "d97e7527-0724-4d65-b169-05cf8431f257",
        "colab": {
          "base_uri": "https://localhost:8080/",
          "height": 162
        }
      },
      "source": [
        "df['Company response to consumer'].value_counts(dropna=False)"
      ],
      "execution_count": 15,
      "outputs": [
        {
          "output_type": "execute_result",
          "data": {
            "text/plain": [
              "Closed with explanation            354310\n",
              "Closed with non-monetary relief     61491\n",
              "Closed with monetary relief         32925\n",
              "Closed without relief               14145\n",
              "Closed                              11365\n",
              "Closed with relief                   4184\n",
              "Untimely response                       1\n",
              "Name: Company response to consumer, dtype: int64"
            ]
          },
          "metadata": {
            "tags": []
          },
          "execution_count": 15
        }
      ]
    },
    {
      "cell_type": "code",
      "metadata": {
        "id": "AWhE8W32SXyZ",
        "colab_type": "code",
        "outputId": "0fbfff1f-b021-41e3-cfb3-1724414af7dd",
        "colab": {
          "base_uri": "https://localhost:8080/",
          "height": 72
        }
      },
      "source": [
        "df['Timely response?'].value_counts(dropna=False)"
      ],
      "execution_count": 16,
      "outputs": [
        {
          "output_type": "execute_result",
          "data": {
            "text/plain": [
              "Yes    470277\n",
              "No       8144\n",
              "Name: Timely response?, dtype: int64"
            ]
          },
          "metadata": {
            "tags": []
          },
          "execution_count": 16
        }
      ]
    },
    {
      "cell_type": "code",
      "metadata": {
        "id": "itc0xHD2UMu6",
        "colab_type": "code",
        "outputId": "f07f4c8d-0e39-4e73-c76f-e974a37c918e",
        "colab": {
          "base_uri": "https://localhost:8080/",
          "height": 72
        }
      },
      "source": [
        "df['Consumer disputed?'].value_counts()"
      ],
      "execution_count": 17,
      "outputs": [
        {
          "output_type": "execute_result",
          "data": {
            "text/plain": [
              "No     376990\n",
              "Yes    101431\n",
              "Name: Consumer disputed?, dtype: int64"
            ]
          },
          "metadata": {
            "tags": []
          },
          "execution_count": 17
        }
      ]
    },
    {
      "cell_type": "code",
      "metadata": {
        "id": "YKn7Uq55USXt",
        "colab_type": "code",
        "colab": {}
      },
      "source": [
        "company_complaints_count= df['Company'].value_counts()\n",
        "df['Company_complaints_count']= df['Company'].apply(lambda x: company_complaints_count[x])"
      ],
      "execution_count": 0,
      "outputs": []
    },
    {
      "cell_type": "code",
      "metadata": {
        "id": "XYMyo7dWUzj_",
        "colab_type": "code",
        "colab": {}
      },
      "source": [
        "company= pd.crosstab(df['Company'], df['Consumer disputed?'])"
      ],
      "execution_count": 0,
      "outputs": []
    },
    {
      "cell_type": "code",
      "metadata": {
        "id": "22eB68lAVbQ-",
        "colab_type": "code",
        "outputId": "fa4f8e42-4b2c-4356-e10e-b80e06e17bd9",
        "colab": {
          "base_uri": "https://localhost:8080/",
          "height": 237
        }
      },
      "source": [
        "company.head()"
      ],
      "execution_count": 20,
      "outputs": [
        {
          "output_type": "execute_result",
          "data": {
            "text/html": [
              "<div>\n",
              "<style scoped>\n",
              "    .dataframe tbody tr th:only-of-type {\n",
              "        vertical-align: middle;\n",
              "    }\n",
              "\n",
              "    .dataframe tbody tr th {\n",
              "        vertical-align: top;\n",
              "    }\n",
              "\n",
              "    .dataframe thead th {\n",
              "        text-align: right;\n",
              "    }\n",
              "</style>\n",
              "<table border=\"1\" class=\"dataframe\">\n",
              "  <thead>\n",
              "    <tr style=\"text-align: right;\">\n",
              "      <th>Consumer disputed?</th>\n",
              "      <th>No</th>\n",
              "      <th>Yes</th>\n",
              "    </tr>\n",
              "    <tr>\n",
              "      <th>Company</th>\n",
              "      <th></th>\n",
              "      <th></th>\n",
              "    </tr>\n",
              "  </thead>\n",
              "  <tbody>\n",
              "    <tr>\n",
              "      <th>1st 2nd Mortgage Company Of NJ, Inc.</th>\n",
              "      <td>1</td>\n",
              "      <td>0</td>\n",
              "    </tr>\n",
              "    <tr>\n",
              "      <th>1st Alliance Lending</th>\n",
              "      <td>10</td>\n",
              "      <td>2</td>\n",
              "    </tr>\n",
              "    <tr>\n",
              "      <th>1st Capital Finance of South Carolina, Inc.</th>\n",
              "      <td>1</td>\n",
              "      <td>0</td>\n",
              "    </tr>\n",
              "    <tr>\n",
              "      <th>1st Capital Mortgage, LLC</th>\n",
              "      <td>0</td>\n",
              "      <td>1</td>\n",
              "    </tr>\n",
              "    <tr>\n",
              "      <th>1st Franklin Financial Corporation</th>\n",
              "      <td>24</td>\n",
              "      <td>7</td>\n",
              "    </tr>\n",
              "  </tbody>\n",
              "</table>\n",
              "</div>"
            ],
            "text/plain": [
              "Consumer disputed?                           No  Yes\n",
              "Company                                             \n",
              "1st 2nd Mortgage Company Of NJ, Inc.          1    0\n",
              "1st Alliance Lending                         10    2\n",
              "1st Capital Finance of South Carolina, Inc.   1    0\n",
              "1st Capital Mortgage, LLC                     0    1\n",
              "1st Franklin Financial Corporation           24    7"
            ]
          },
          "metadata": {
            "tags": []
          },
          "execution_count": 20
        }
      ]
    },
    {
      "cell_type": "code",
      "metadata": {
        "id": "-3Z_uEMRVmr1",
        "colab_type": "code",
        "colab": {}
      },
      "source": [
        "company['dipute rate']= company.Yes/ (company.Yes + company.No)"
      ],
      "execution_count": 0,
      "outputs": []
    },
    {
      "cell_type": "code",
      "metadata": {
        "id": "I5c9tJqeWF9Y",
        "colab_type": "code",
        "colab": {}
      },
      "source": [
        "company['company']= company.index"
      ],
      "execution_count": 0,
      "outputs": []
    },
    {
      "cell_type": "code",
      "metadata": {
        "id": "BfTJL6aEWLIv",
        "colab_type": "code",
        "colab": {}
      },
      "source": [
        "company['complaints_count']= company['company'].apply(lambda x: company_complaints_count[x])"
      ],
      "execution_count": 0,
      "outputs": []
    },
    {
      "cell_type": "code",
      "metadata": {
        "id": "RkfFVQKpWei1",
        "colab_type": "code",
        "colab": {}
      },
      "source": [
        "company= company.sort_values('complaints_count', ascending=False)"
      ],
      "execution_count": 0,
      "outputs": []
    },
    {
      "cell_type": "code",
      "metadata": {
        "id": "9-sJJ-iQWZO2",
        "colab_type": "code",
        "outputId": "2b30f98d-218a-46fb-a4cb-78987717c04e",
        "colab": {
          "base_uri": "https://localhost:8080/",
          "height": 394
        }
      },
      "source": [
        "company.head(10)"
      ],
      "execution_count": 25,
      "outputs": [
        {
          "output_type": "execute_result",
          "data": {
            "text/html": [
              "<div>\n",
              "<style scoped>\n",
              "    .dataframe tbody tr th:only-of-type {\n",
              "        vertical-align: middle;\n",
              "    }\n",
              "\n",
              "    .dataframe tbody tr th {\n",
              "        vertical-align: top;\n",
              "    }\n",
              "\n",
              "    .dataframe thead th {\n",
              "        text-align: right;\n",
              "    }\n",
              "</style>\n",
              "<table border=\"1\" class=\"dataframe\">\n",
              "  <thead>\n",
              "    <tr style=\"text-align: right;\">\n",
              "      <th>Consumer disputed?</th>\n",
              "      <th>No</th>\n",
              "      <th>Yes</th>\n",
              "      <th>dipute rate</th>\n",
              "      <th>company</th>\n",
              "      <th>complaints_count</th>\n",
              "    </tr>\n",
              "    <tr>\n",
              "      <th>Company</th>\n",
              "      <th></th>\n",
              "      <th></th>\n",
              "      <th></th>\n",
              "      <th></th>\n",
              "      <th></th>\n",
              "    </tr>\n",
              "  </thead>\n",
              "  <tbody>\n",
              "    <tr>\n",
              "      <th>Bank of America</th>\n",
              "      <td>35687</td>\n",
              "      <td>10649</td>\n",
              "      <td>0.229821</td>\n",
              "      <td>Bank of America</td>\n",
              "      <td>46336</td>\n",
              "    </tr>\n",
              "    <tr>\n",
              "      <th>Wells Fargo &amp; Company</th>\n",
              "      <td>27100</td>\n",
              "      <td>8353</td>\n",
              "      <td>0.235608</td>\n",
              "      <td>Wells Fargo &amp; Company</td>\n",
              "      <td>35453</td>\n",
              "    </tr>\n",
              "    <tr>\n",
              "      <th>JPMorgan Chase &amp; Co.</th>\n",
              "      <td>22143</td>\n",
              "      <td>6709</td>\n",
              "      <td>0.232532</td>\n",
              "      <td>JPMorgan Chase &amp; Co.</td>\n",
              "      <td>28852</td>\n",
              "    </tr>\n",
              "    <tr>\n",
              "      <th>Equifax</th>\n",
              "      <td>22285</td>\n",
              "      <td>6547</td>\n",
              "      <td>0.227074</td>\n",
              "      <td>Equifax</td>\n",
              "      <td>28832</td>\n",
              "    </tr>\n",
              "    <tr>\n",
              "      <th>Experian</th>\n",
              "      <td>23192</td>\n",
              "      <td>3602</td>\n",
              "      <td>0.134433</td>\n",
              "      <td>Experian</td>\n",
              "      <td>26794</td>\n",
              "    </tr>\n",
              "    <tr>\n",
              "      <th>TransUnion Intermediate Holdings, Inc.</th>\n",
              "      <td>18872</td>\n",
              "      <td>3636</td>\n",
              "      <td>0.161543</td>\n",
              "      <td>TransUnion Intermediate Holdings, Inc.</td>\n",
              "      <td>22508</td>\n",
              "    </tr>\n",
              "    <tr>\n",
              "      <th>Citibank</th>\n",
              "      <td>17573</td>\n",
              "      <td>4727</td>\n",
              "      <td>0.211973</td>\n",
              "      <td>Citibank</td>\n",
              "      <td>22300</td>\n",
              "    </tr>\n",
              "    <tr>\n",
              "      <th>Ocwen</th>\n",
              "      <td>13157</td>\n",
              "      <td>4318</td>\n",
              "      <td>0.247096</td>\n",
              "      <td>Ocwen</td>\n",
              "      <td>17475</td>\n",
              "    </tr>\n",
              "    <tr>\n",
              "      <th>Capital One</th>\n",
              "      <td>10819</td>\n",
              "      <td>2577</td>\n",
              "      <td>0.192371</td>\n",
              "      <td>Capital One</td>\n",
              "      <td>13396</td>\n",
              "    </tr>\n",
              "    <tr>\n",
              "      <th>Nationstar Mortgage</th>\n",
              "      <td>8503</td>\n",
              "      <td>2775</td>\n",
              "      <td>0.246054</td>\n",
              "      <td>Nationstar Mortgage</td>\n",
              "      <td>11278</td>\n",
              "    </tr>\n",
              "  </tbody>\n",
              "</table>\n",
              "</div>"
            ],
            "text/plain": [
              "Consumer disputed?                         No  ...  complaints_count\n",
              "Company                                        ...                  \n",
              "Bank of America                         35687  ...             46336\n",
              "Wells Fargo & Company                   27100  ...             35453\n",
              "JPMorgan Chase & Co.                    22143  ...             28852\n",
              "Equifax                                 22285  ...             28832\n",
              "Experian                                23192  ...             26794\n",
              "TransUnion Intermediate Holdings, Inc.  18872  ...             22508\n",
              "Citibank                                17573  ...             22300\n",
              "Ocwen                                   13157  ...             17475\n",
              "Capital One                             10819  ...             13396\n",
              "Nationstar Mortgage                      8503  ...             11278\n",
              "\n",
              "[10 rows x 5 columns]"
            ]
          },
          "metadata": {
            "tags": []
          },
          "execution_count": 25
        }
      ]
    },
    {
      "cell_type": "code",
      "metadata": {
        "id": "4peoHredWlco",
        "colab_type": "code",
        "colab": {}
      },
      "source": [
        "temp1= pd.crosstab(df['Product'], df['Consumer disputed?'])"
      ],
      "execution_count": 0,
      "outputs": []
    },
    {
      "cell_type": "code",
      "metadata": {
        "id": "Sz4BXzu5W9Pp",
        "colab_type": "code",
        "outputId": "6f8eb3be-0ff8-4e8e-b2fb-1e7fa1fae086",
        "colab": {
          "base_uri": "https://localhost:8080/",
          "height": 516
        }
      },
      "source": [
        "temp1.plot(kind='bar', figsize=(15,6))"
      ],
      "execution_count": 27,
      "outputs": [
        {
          "output_type": "execute_result",
          "data": {
            "text/plain": [
              "<matplotlib.axes._subplots.AxesSubplot at 0x7f0bfc178eb8>"
            ]
          },
          "metadata": {
            "tags": []
          },
          "execution_count": 27
        },
        {
          "output_type": "display_data",
          "data": {
            "image/png": "[encoded data removed]",
            "text/plain": [
              "<Figure size 1080x432 with 1 Axes>"
            ]
          },
          "metadata": {
            "tags": []
          }
        }
      ]
    },
    {
      "cell_type": "code",
      "metadata": {
        "id": "x6LTBK9sXEuY",
        "colab_type": "code",
        "colab": {}
      },
      "source": [
        "temp2= pd.crosstab(df['Company response to consumer'], df['Consumer disputed?'])"
      ],
      "execution_count": 0,
      "outputs": []
    },
    {
      "cell_type": "code",
      "metadata": {
        "id": "WTmy4GcxXbcp",
        "colab_type": "code",
        "outputId": "61c1827d-ac89-4986-c061-7f466e7eeb29",
        "colab": {
          "base_uri": "https://localhost:8080/",
          "height": 448
        }
      },
      "source": [
        "temp2.plot(kind='bar', figsize=(15,4))"
      ],
      "execution_count": 29,
      "outputs": [
        {
          "output_type": "execute_result",
          "data": {
            "text/plain": [
              "<matplotlib.axes._subplots.AxesSubplot at 0x7f0bf9be2b00>"
            ]
          },
          "metadata": {
            "tags": []
          },
          "execution_count": 29
        },
        {
          "output_type": "display_data",
          "data": {
            "image/png": "[encoded data removed]",
            "text/plain": [
              "<Figure size 1080x288 with 1 Axes>"
            ]
          },
          "metadata": {
            "tags": []
          }
        }
      ]
    },
    {
      "cell_type": "code",
      "metadata": {
        "id": "Jt4mJa5f4p4m",
        "colab_type": "code",
        "colab": {}
      },
      "source": [
        "temp3= pd.crosstab(df['Consumer consent provided?'], df['Consumer disputed?'])"
      ],
      "execution_count": 0,
      "outputs": []
    },
    {
      "cell_type": "code",
      "metadata": {
        "id": "W80C1ph45YuP",
        "colab_type": "code",
        "outputId": "b1b2e0f8-5e85-4e1d-b401-69f936034cca",
        "colab": {
          "base_uri": "https://localhost:8080/",
          "height": 395
        }
      },
      "source": [
        "temp3.plot(kind='bar', figsize=(15,4))"
      ],
      "execution_count": 31,
      "outputs": [
        {
          "output_type": "execute_result",
          "data": {
            "text/plain": [
              "<matplotlib.axes._subplots.AxesSubplot at 0x7f0bfa06f6a0>"
            ]
          },
          "metadata": {
            "tags": []
          },
          "execution_count": 31
        },
        {
          "output_type": "display_data",
          "data": {
            "image/png": "[encoded data removed]",
            "text/plain": [
              "<Figure size 1080x288 with 1 Axes>"
            ]
          },
          "metadata": {
            "tags": []
          }
        }
      ]
    },
    {
      "cell_type": "markdown",
      "metadata": {
        "id": "hzJcY-eAZUyC",
        "colab_type": "text"
      },
      "source": [
        " **Handling Missing Values**"
      ]
    },
    {
      "cell_type": "code",
      "metadata": {
        "id": "l2n7WvGKwflg",
        "colab_type": "code",
        "outputId": "7562506d-82bc-4980-ec86-bf33594b7233",
        "colab": {
          "base_uri": "https://localhost:8080/",
          "height": 362
        }
      },
      "source": [
        "df.isnull().sum()/df.shape[0]*100"
      ],
      "execution_count": 32,
      "outputs": [
        {
          "output_type": "execute_result",
          "data": {
            "text/plain": [
              "Date received                    0.000000\n",
              "Product                          0.000000\n",
              "Sub-product                     28.943755\n",
              "Issue                            0.000000\n",
              "Sub-issue                       61.164748\n",
              "Consumer complaint narrative    84.303783\n",
              "Company public response         81.106181\n",
              "Company                          0.000000\n",
              "State                            0.802431\n",
              "ZIP code                         0.804313\n",
              "Tags                            85.952540\n",
              "Consumer consent provided?      71.680382\n",
              "Submitted via                    0.000000\n",
              "Date sent to company             0.000000\n",
              "Company response to consumer     0.000000\n",
              "Timely response?                 0.000000\n",
              "Consumer disputed?               0.000000\n",
              "Company_complaints_count         0.000000\n",
              "dtype: float64"
            ]
          },
          "metadata": {
            "tags": []
          },
          "execution_count": 32
        }
      ]
    },
    {
      "cell_type": "code",
      "metadata": {
        "id": "lA-bPeBoqHHw",
        "colab_type": "code",
        "colab": {}
      },
      "source": [
        "df['Sub-product'].fillna('Not Provided', inplace=True)\n",
        "df['Sub-issue'].fillna('Not Provided', inplace=True)\n",
        "df['Consumer complaint narrative'].fillna('None or not Provided', inplace=True)\n",
        "df['Company public response'].fillna('Company chooses not to provide', inplace=True)\n",
        "df['Issue'].fillna('Other', inplace=True)\n",
        "df['Tags'].fillna('Unknown', inplace=True)\n",
        "df['Submitted via'].fillna('Other', inplace=True)\n",
        "\n",
        "df['Consumer consent provided?'].fillna('Consent not provided', inplace=True)\n",
        "df['Consumer consent provided?']= df['Consumer consent provided?'].apply(lambda x: 'Consent not provided' if x=='Other' or x=='Consent withdrawn' else x)"
      ],
      "execution_count": 0,
      "outputs": []
    },
    {
      "cell_type": "code",
      "metadata": {
        "id": "kSZxxsiN3og0",
        "colab_type": "code",
        "outputId": "467e355d-c361-4516-815c-c07417ce6eb7",
        "colab": {
          "base_uri": "https://localhost:8080/",
          "height": 35
        }
      },
      "source": [
        "pd.isnull(df['State']).shape, pd.isnull(df['ZIP code']).shape"
      ],
      "execution_count": 34,
      "outputs": [
        {
          "output_type": "execute_result",
          "data": {
            "text/plain": [
              "((478421,), (478421,))"
            ]
          },
          "metadata": {
            "tags": []
          },
          "execution_count": 34
        }
      ]
    },
    {
      "cell_type": "code",
      "metadata": {
        "id": "zQLCrJRwZUbI",
        "colab_type": "code",
        "colab": {}
      },
      "source": [
        "#Filling missing state value using valid zipcode.\n",
        "!pip install pyzipcode3\n",
        "from pyzipcode import ZipCodeDatabase\n",
        "zip= ZipCodeDatabase()\n",
        "for i in df[pd.isnull(df['State']) & pd.notnull(df['ZIP code'])].index:\n",
        "  try:\n",
        "    df['State'][i]= str(zip[df['ZIP code'][i]].state)\n",
        "  except:\n",
        "    continue"
      ],
      "execution_count": 0,
      "outputs": []
    },
    {
      "cell_type": "code",
      "metadata": {
        "id": "cAfxzYBiqRSX",
        "colab_type": "code",
        "outputId": "a17758dd-089b-4ab9-e21b-f51532ec98a2",
        "colab": {
          "base_uri": "https://localhost:8080/",
          "height": 35
        }
      },
      "source": [
        "df[pd.isnull(df['State']) & pd.isnull(df['ZIP code'])].shape #We see that still 3839 States & 18 ZIP codes does have any value."
      ],
      "execution_count": 37,
      "outputs": [
        {
          "output_type": "execute_result",
          "data": {
            "text/plain": [
              "(3839, 18)"
            ]
          },
          "metadata": {
            "tags": []
          },
          "execution_count": 37
        }
      ]
    },
    {
      "cell_type": "code",
      "metadata": {
        "id": "fcBOhBN7qRZf",
        "colab_type": "code",
        "colab": {}
      },
      "source": [
        "df['State'].fillna('Not provided', inplace=True)\n",
        "df['ZIP code'].fillna('Not provided', inplace=True)"
      ],
      "execution_count": 0,
      "outputs": []
    },
    {
      "cell_type": "code",
      "metadata": {
        "id": "FsrmEDP0qRXT",
        "colab_type": "code",
        "outputId": "24a67c6f-1d0a-4c97-b1e9-d4ae7d19ab21",
        "colab": {
          "base_uri": "https://localhost:8080/",
          "height": 72
        }
      },
      "source": [
        "df['Consumer consent provided?'].value_counts(dropna=False)"
      ],
      "execution_count": 39,
      "outputs": [
        {
          "output_type": "execute_result",
          "data": {
            "text/plain": [
              "Consent not provided    403326\n",
              "Consent provided         75095\n",
              "Name: Consumer consent provided?, dtype: int64"
            ]
          },
          "metadata": {
            "tags": []
          },
          "execution_count": 39
        }
      ]
    },
    {
      "cell_type": "code",
      "metadata": {
        "id": "Tv19mwM6qRQF",
        "colab_type": "code",
        "outputId": "50191029-fc80-4847-84b7-95e84b8272b9",
        "colab": {
          "base_uri": "https://localhost:8080/",
          "height": 573
        }
      },
      "source": [
        "df.head()"
      ],
      "execution_count": 40,
      "outputs": [
        {
          "output_type": "execute_result",
          "data": {
            "text/html": [
              "<div>\n",
              "<style scoped>\n",
              "    .dataframe tbody tr th:only-of-type {\n",
              "        vertical-align: middle;\n",
              "    }\n",
              "\n",
              "    .dataframe tbody tr th {\n",
              "        vertical-align: top;\n",
              "    }\n",
              "\n",
              "    .dataframe thead th {\n",
              "        text-align: right;\n",
              "    }\n",
              "</style>\n",
              "<table border=\"1\" class=\"dataframe\">\n",
              "  <thead>\n",
              "    <tr style=\"text-align: right;\">\n",
              "      <th></th>\n",
              "      <th>Date received</th>\n",
              "      <th>Product</th>\n",
              "      <th>Sub-product</th>\n",
              "      <th>Issue</th>\n",
              "      <th>Sub-issue</th>\n",
              "      <th>Consumer complaint narrative</th>\n",
              "      <th>Company public response</th>\n",
              "      <th>Company</th>\n",
              "      <th>State</th>\n",
              "      <th>ZIP code</th>\n",
              "      <th>Tags</th>\n",
              "      <th>Consumer consent provided?</th>\n",
              "      <th>Submitted via</th>\n",
              "      <th>Date sent to company</th>\n",
              "      <th>Company response to consumer</th>\n",
              "      <th>Timely response?</th>\n",
              "      <th>Consumer disputed?</th>\n",
              "      <th>Company_complaints_count</th>\n",
              "    </tr>\n",
              "  </thead>\n",
              "  <tbody>\n",
              "    <tr>\n",
              "      <th>0</th>\n",
              "      <td>2014-05-15</td>\n",
              "      <td>Credit card</td>\n",
              "      <td>Not Provided</td>\n",
              "      <td>Billing statement</td>\n",
              "      <td>Not Provided</td>\n",
              "      <td>None or not Provided</td>\n",
              "      <td>Company chooses not to provide</td>\n",
              "      <td>Wells Fargo &amp; Company</td>\n",
              "      <td>MI</td>\n",
              "      <td>48342</td>\n",
              "      <td>Older American</td>\n",
              "      <td>Consent not provided</td>\n",
              "      <td>Web</td>\n",
              "      <td>2014-05-15</td>\n",
              "      <td>Closed with explanation</td>\n",
              "      <td>Yes</td>\n",
              "      <td>No</td>\n",
              "      <td>35453</td>\n",
              "    </tr>\n",
              "    <tr>\n",
              "      <th>1</th>\n",
              "      <td>2014-09-18</td>\n",
              "      <td>Bank account or service</td>\n",
              "      <td>(CD) Certificate of deposit</td>\n",
              "      <td>Making/receiving payments, sending money</td>\n",
              "      <td>Not Provided</td>\n",
              "      <td>None or not Provided</td>\n",
              "      <td>Company chooses not to provide</td>\n",
              "      <td>Santander Bank US</td>\n",
              "      <td>PA</td>\n",
              "      <td>18042</td>\n",
              "      <td>Unknown</td>\n",
              "      <td>Consent not provided</td>\n",
              "      <td>Referral</td>\n",
              "      <td>2014-09-18</td>\n",
              "      <td>Closed</td>\n",
              "      <td>Yes</td>\n",
              "      <td>No</td>\n",
              "      <td>1633</td>\n",
              "    </tr>\n",
              "    <tr>\n",
              "      <th>2</th>\n",
              "      <td>2014-03-13</td>\n",
              "      <td>Credit reporting</td>\n",
              "      <td>Not Provided</td>\n",
              "      <td>Incorrect information on credit report</td>\n",
              "      <td>Account status</td>\n",
              "      <td>None or not Provided</td>\n",
              "      <td>Company chooses not to provide</td>\n",
              "      <td>Equifax</td>\n",
              "      <td>CA</td>\n",
              "      <td>92427</td>\n",
              "      <td>Unknown</td>\n",
              "      <td>Consent not provided</td>\n",
              "      <td>Referral</td>\n",
              "      <td>2014-03-13</td>\n",
              "      <td>Closed with non-monetary relief</td>\n",
              "      <td>Yes</td>\n",
              "      <td>No</td>\n",
              "      <td>28832</td>\n",
              "    </tr>\n",
              "    <tr>\n",
              "      <th>3</th>\n",
              "      <td>2015-07-17</td>\n",
              "      <td>Credit card</td>\n",
              "      <td>Not Provided</td>\n",
              "      <td>Billing statement</td>\n",
              "      <td>Not Provided</td>\n",
              "      <td>My credit card statement from US Bank, XXXX. X...</td>\n",
              "      <td>Company chooses not to provide a public response</td>\n",
              "      <td>U.S. Bancorp</td>\n",
              "      <td>GA</td>\n",
              "      <td>305XX</td>\n",
              "      <td>Older American</td>\n",
              "      <td>Consent provided</td>\n",
              "      <td>Web</td>\n",
              "      <td>2015-07-17</td>\n",
              "      <td>Closed with monetary relief</td>\n",
              "      <td>Yes</td>\n",
              "      <td>No</td>\n",
              "      <td>8201</td>\n",
              "    </tr>\n",
              "    <tr>\n",
              "      <th>4</th>\n",
              "      <td>2014-11-20</td>\n",
              "      <td>Credit card</td>\n",
              "      <td>Not Provided</td>\n",
              "      <td>Transaction issue</td>\n",
              "      <td>Not Provided</td>\n",
              "      <td>None or not Provided</td>\n",
              "      <td>Company chooses not to provide</td>\n",
              "      <td>Bank of America</td>\n",
              "      <td>MA</td>\n",
              "      <td>02127</td>\n",
              "      <td>Unknown</td>\n",
              "      <td>Consent not provided</td>\n",
              "      <td>Web</td>\n",
              "      <td>2014-11-20</td>\n",
              "      <td>Closed with explanation</td>\n",
              "      <td>Yes</td>\n",
              "      <td>No</td>\n",
              "      <td>46336</td>\n",
              "    </tr>\n",
              "  </tbody>\n",
              "</table>\n",
              "</div>"
            ],
            "text/plain": [
              "  Date received  ... Company_complaints_count\n",
              "0    2014-05-15  ...                    35453\n",
              "1    2014-09-18  ...                     1633\n",
              "2    2014-03-13  ...                    28832\n",
              "3    2015-07-17  ...                     8201\n",
              "4    2014-11-20  ...                    46336\n",
              "\n",
              "[5 rows x 18 columns]"
            ]
          },
          "metadata": {
            "tags": []
          },
          "execution_count": 40
        }
      ]
    },
    {
      "cell_type": "markdown",
      "metadata": {
        "id": "BbmnSFtE51dq",
        "colab_type": "text"
      },
      "source": [
        "## **Feature Engineering**"
      ]
    },
    {
      "cell_type": "code",
      "metadata": {
        "id": "L7-fb3Jw5AAe",
        "colab_type": "code",
        "colab": {}
      },
      "source": [
        "replace= {'Yes': True, 'No':False}\n",
        "df['Consumer disputed?']= df['Consumer disputed?'].apply(lambda x: replace[x])"
      ],
      "execution_count": 0,
      "outputs": []
    },
    {
      "cell_type": "code",
      "metadata": {
        "id": "15gQRvy46LO-",
        "colab_type": "code",
        "colab": {}
      },
      "source": [
        "#Creating a DataFrame including all the features in the model.\n",
        "df_model= DataFrame()"
      ],
      "execution_count": 0,
      "outputs": []
    },
    {
      "cell_type": "code",
      "metadata": {
        "id": "Lc8Ht32K6WGd",
        "colab_type": "code",
        "colab": {}
      },
      "source": [
        "#Creating Consumer consent boolean feature.\n",
        "replace1= {'Consent provided': True, 'Consent not provided': False}\n",
        "df_model['Consumer consent provided?']= df['Consumer consent provided?'].apply(lambda x: replace1[x])"
      ],
      "execution_count": 0,
      "outputs": []
    },
    {
      "cell_type": "code",
      "metadata": {
        "id": "Tpk81znv6n6v",
        "colab_type": "code",
        "colab": {}
      },
      "source": [
        "#Creating the no. of complaints from each company as a feature.\n",
        "company_complaints_count= df['Company'].value_counts()\n",
        "df_model['Company complaints count']= df['Company'].apply(lambda x: company_complaints_count[x])"
      ],
      "execution_count": 0,
      "outputs": []
    },
    {
      "cell_type": "code",
      "metadata": {
        "id": "2gLqoSEe7cbq",
        "colab_type": "code",
        "outputId": "9e6c4ab6-016c-4516-f193-9da43a55cfa5",
        "colab": {
          "base_uri": "https://localhost:8080/",
          "height": 362
        }
      },
      "source": [
        "df.dtypes"
      ],
      "execution_count": 45,
      "outputs": [
        {
          "output_type": "execute_result",
          "data": {
            "text/plain": [
              "Date received                   datetime64[ns]\n",
              "Product                                 object\n",
              "Sub-product                             object\n",
              "Issue                                   object\n",
              "Sub-issue                               object\n",
              "Consumer complaint narrative            object\n",
              "Company public response                 object\n",
              "Company                                 object\n",
              "State                                   object\n",
              "ZIP code                                object\n",
              "Tags                                    object\n",
              "Consumer consent provided?              object\n",
              "Submitted via                           object\n",
              "Date sent to company            datetime64[ns]\n",
              "Company response to consumer            object\n",
              "Timely response?                        object\n",
              "Consumer disputed?                        bool\n",
              "Company_complaints_count                 int64\n",
              "dtype: object"
            ]
          },
          "metadata": {
            "tags": []
          },
          "execution_count": 45
        }
      ]
    },
    {
      "cell_type": "code",
      "metadata": {
        "id": "LbaF2CfM7UX9",
        "colab_type": "code",
        "colab": {}
      },
      "source": [
        "features_for_model= ['Product', 'Sub-product', 'Issue', 'Sub-issue', 'Company public response', 'Tags', 'Company response to consumer', 'State']\n",
        "\n",
        "for name in features_for_model:\n",
        "  repl={}\n",
        "  i=0\n",
        "  for value in df[name].unique():\n",
        "    repl[value]=i\n",
        "    i+=1\n",
        "\n",
        "  df[name]= df[name].apply(lambda x: repl[x])\n",
        "  df_model[name]= df[name].astype('category')"
      ],
      "execution_count": 0,
      "outputs": []
    },
    {
      "cell_type": "code",
      "metadata": {
        "id": "mmUsu7TW74zT",
        "colab_type": "code",
        "colab": {}
      },
      "source": [
        "#Process time refers to days between the date CFPB received complaints and the date when complaints were sent to company on behalf of consumer.\n",
        "df['Process time']= (df['Date sent to company'] - df['Date received']).astype('timedelta64[D]').astype(int)\n",
        "df_model= pd.concat([df_model, df['Process time']], axis=1)"
      ],
      "execution_count": 0,
      "outputs": []
    },
    {
      "cell_type": "code",
      "metadata": {
        "id": "Gl5U_h5b9Jmj",
        "colab_type": "code",
        "colab": {}
      },
      "source": [
        "#Creating Timely response Boolean feature.\n",
        "df['Timely response?']= df['Timely response?'].apply(lambda x: replace[x])\n",
        "df_model= pd.concat([df_model, df['Timely response?']], axis=1)"
      ],
      "execution_count": 0,
      "outputs": []
    },
    {
      "cell_type": "code",
      "metadata": {
        "id": "XxIAshkk92Z3",
        "colab_type": "code",
        "colab": {}
      },
      "source": [
        "#Create features about Complaint submitted time.\n",
        "df_model['Date received year']= df['Date received'].apply(lambda x: x.year)\n",
        "df_model['Date received month']= df['Date received'].apply(lambda x: x.month)\n",
        "df_model['Date received day']= df['Date received'].apply(lambda x: x.day)"
      ],
      "execution_count": 0,
      "outputs": []
    },
    {
      "cell_type": "code",
      "metadata": {
        "id": "OqB2I-gu-Sjn",
        "colab_type": "code",
        "outputId": "337ea88e-abd4-47de-fec9-9b8b59429f88",
        "colab": {
          "base_uri": "https://localhost:8080/",
          "height": 241
        }
      },
      "source": [
        "df_model.head()"
      ],
      "execution_count": 50,
      "outputs": [
        {
          "output_type": "execute_result",
          "data": {
            "text/html": [
              "<div>\n",
              "<style scoped>\n",
              "    .dataframe tbody tr th:only-of-type {\n",
              "        vertical-align: middle;\n",
              "    }\n",
              "\n",
              "    .dataframe tbody tr th {\n",
              "        vertical-align: top;\n",
              "    }\n",
              "\n",
              "    .dataframe thead th {\n",
              "        text-align: right;\n",
              "    }\n",
              "</style>\n",
              "<table border=\"1\" class=\"dataframe\">\n",
              "  <thead>\n",
              "    <tr style=\"text-align: right;\">\n",
              "      <th></th>\n",
              "      <th>Consumer consent provided?</th>\n",
              "      <th>Company complaints count</th>\n",
              "      <th>Product</th>\n",
              "      <th>Sub-product</th>\n",
              "      <th>Issue</th>\n",
              "      <th>Sub-issue</th>\n",
              "      <th>Company public response</th>\n",
              "      <th>Tags</th>\n",
              "      <th>Company response to consumer</th>\n",
              "      <th>State</th>\n",
              "      <th>Process time</th>\n",
              "      <th>Timely response?</th>\n",
              "      <th>Date received year</th>\n",
              "      <th>Date received month</th>\n",
              "      <th>Date received day</th>\n",
              "    </tr>\n",
              "  </thead>\n",
              "  <tbody>\n",
              "    <tr>\n",
              "      <th>0</th>\n",
              "      <td>False</td>\n",
              "      <td>35453</td>\n",
              "      <td>0</td>\n",
              "      <td>0</td>\n",
              "      <td>0</td>\n",
              "      <td>0</td>\n",
              "      <td>0</td>\n",
              "      <td>0</td>\n",
              "      <td>0</td>\n",
              "      <td>0</td>\n",
              "      <td>0</td>\n",
              "      <td>True</td>\n",
              "      <td>2014</td>\n",
              "      <td>5</td>\n",
              "      <td>15</td>\n",
              "    </tr>\n",
              "    <tr>\n",
              "      <th>1</th>\n",
              "      <td>False</td>\n",
              "      <td>1633</td>\n",
              "      <td>1</td>\n",
              "      <td>1</td>\n",
              "      <td>1</td>\n",
              "      <td>0</td>\n",
              "      <td>0</td>\n",
              "      <td>1</td>\n",
              "      <td>1</td>\n",
              "      <td>1</td>\n",
              "      <td>0</td>\n",
              "      <td>True</td>\n",
              "      <td>2014</td>\n",
              "      <td>9</td>\n",
              "      <td>18</td>\n",
              "    </tr>\n",
              "    <tr>\n",
              "      <th>2</th>\n",
              "      <td>False</td>\n",
              "      <td>28832</td>\n",
              "      <td>2</td>\n",
              "      <td>0</td>\n",
              "      <td>2</td>\n",
              "      <td>1</td>\n",
              "      <td>0</td>\n",
              "      <td>1</td>\n",
              "      <td>2</td>\n",
              "      <td>2</td>\n",
              "      <td>0</td>\n",
              "      <td>True</td>\n",
              "      <td>2014</td>\n",
              "      <td>3</td>\n",
              "      <td>13</td>\n",
              "    </tr>\n",
              "    <tr>\n",
              "      <th>3</th>\n",
              "      <td>True</td>\n",
              "      <td>8201</td>\n",
              "      <td>0</td>\n",
              "      <td>0</td>\n",
              "      <td>0</td>\n",
              "      <td>0</td>\n",
              "      <td>1</td>\n",
              "      <td>0</td>\n",
              "      <td>3</td>\n",
              "      <td>3</td>\n",
              "      <td>0</td>\n",
              "      <td>True</td>\n",
              "      <td>2015</td>\n",
              "      <td>7</td>\n",
              "      <td>17</td>\n",
              "    </tr>\n",
              "    <tr>\n",
              "      <th>4</th>\n",
              "      <td>False</td>\n",
              "      <td>46336</td>\n",
              "      <td>0</td>\n",
              "      <td>0</td>\n",
              "      <td>3</td>\n",
              "      <td>0</td>\n",
              "      <td>0</td>\n",
              "      <td>1</td>\n",
              "      <td>0</td>\n",
              "      <td>4</td>\n",
              "      <td>0</td>\n",
              "      <td>True</td>\n",
              "      <td>2014</td>\n",
              "      <td>11</td>\n",
              "      <td>20</td>\n",
              "    </tr>\n",
              "  </tbody>\n",
              "</table>\n",
              "</div>"
            ],
            "text/plain": [
              "   Consumer consent provided?  ...  Date received day\n",
              "0                       False  ...                 15\n",
              "1                       False  ...                 18\n",
              "2                       False  ...                 13\n",
              "3                        True  ...                 17\n",
              "4                       False  ...                 20\n",
              "\n",
              "[5 rows x 15 columns]"
            ]
          },
          "metadata": {
            "tags": []
          },
          "execution_count": 50
        }
      ]
    },
    {
      "cell_type": "markdown",
      "metadata": {
        "id": "zq6b6BXO_TRz",
        "colab_type": "text"
      },
      "source": [
        "## **Modelling**"
      ]
    },
    {
      "cell_type": "code",
      "metadata": {
        "id": "CMJHXyyC-Vi0",
        "colab_type": "code",
        "colab": {}
      },
      "source": [
        "from sklearn.model_selection import train_test_split\n",
        "from sklearn.preprocessing import StandardScaler\n",
        "from sklearn.linear_model import LogisticRegression\n",
        "from sklearn.metrics import roc_auc_score\n",
        "import sklearn.metrics as skm\n",
        "from matplotlib import pyplot as plt"
      ],
      "execution_count": 0,
      "outputs": []
    },
    {
      "cell_type": "markdown",
      "metadata": {
        "id": "0e14LmWM_f4q",
        "colab_type": "text"
      },
      "source": [
        "Modelling with Non-complaint narrative text features "
      ]
    },
    {
      "cell_type": "code",
      "metadata": {
        "id": "6wdHT8tt_dkZ",
        "colab_type": "code",
        "colab": {}
      },
      "source": [
        "x= df_model.values\n",
        "y= df['Consumer disputed?'].values"
      ],
      "execution_count": 0,
      "outputs": []
    },
    {
      "cell_type": "code",
      "metadata": {
        "id": "cpLDsBD8_dmV",
        "colab_type": "code",
        "colab": {}
      },
      "source": [
        "X_train, X_test, Y_train, Y_test= train_test_split(x, y, test_size=0.20, random_state=67)"
      ],
      "execution_count": 0,
      "outputs": []
    },
    {
      "cell_type": "code",
      "metadata": {
        "id": "Awsa6-xF_drY",
        "colab_type": "code",
        "colab": {}
      },
      "source": [
        "scaler= StandardScaler()\n",
        "scaler.fit(X_train)\n",
        "X_train= scaler.fit_transform(X_train)\n",
        "X_test= scaler.fit_transform(X_test)"
      ],
      "execution_count": 0,
      "outputs": []
    },
    {
      "cell_type": "markdown",
      "metadata": {
        "id": "fACxUW0PBhZD",
        "colab_type": "text"
      },
      "source": [
        "**Logistic Regression**"
      ]
    },
    {
      "cell_type": "code",
      "metadata": {
        "id": "UgPNxgCZ_dtA",
        "colab_type": "code",
        "outputId": "6af32fe4-fcac-4bdc-c614-bf76d5747e54",
        "colab": {
          "base_uri": "https://localhost:8080/",
          "height": 108
        }
      },
      "source": [
        "lr= LogisticRegression(class_weight='auto')\n",
        "lr.fit(X_train, Y_train)"
      ],
      "execution_count": 55,
      "outputs": [
        {
          "output_type": "execute_result",
          "data": {
            "text/plain": [
              "LogisticRegression(C=1.0, class_weight='auto', dual=False, fit_intercept=True,\n",
              "                   intercept_scaling=1, l1_ratio=None, max_iter=100,\n",
              "                   multi_class='auto', n_jobs=None, penalty='l2',\n",
              "                   random_state=None, solver='lbfgs', tol=0.0001, verbose=0,\n",
              "                   warm_start=False)"
            ]
          },
          "metadata": {
            "tags": []
          },
          "execution_count": 55
        }
      ]
    },
    {
      "cell_type": "code",
      "metadata": {
        "id": "1O8ewk5UBwMo",
        "colab_type": "code",
        "outputId": "ee82fb06-61fd-4957-eb04-b58aeeca87e0",
        "colab": {
          "base_uri": "https://localhost:8080/",
          "height": 35
        }
      },
      "source": [
        "lr.score(X_test, Y_test)"
      ],
      "execution_count": 56,
      "outputs": [
        {
          "output_type": "execute_result",
          "data": {
            "text/plain": [
              "0.787594711814809"
            ]
          },
          "metadata": {
            "tags": []
          },
          "execution_count": 56
        }
      ]
    },
    {
      "cell_type": "code",
      "metadata": {
        "id": "jBM9Bs0UCNnj",
        "colab_type": "code",
        "colab": {}
      },
      "source": [
        "v_probs= lr.predict_proba(X_test)[:,1]"
      ],
      "execution_count": 0,
      "outputs": []
    },
    {
      "cell_type": "code",
      "metadata": {
        "id": "jugCliEtCW3r",
        "colab_type": "code",
        "colab": {}
      },
      "source": [
        "def roc_curve(probabilities, labels):\n",
        "    '''\n",
        "    INPUT: numpy array, numpy array\n",
        "    OUTPUT: list, list, list\n",
        "\n",
        "    Take a numpy array of the predicted probabilities and a numpy array of the\n",
        "    true labels.\n",
        "    Return the True Positive Rates, False Positive Rates and Thresholds for the\n",
        "    ROC curve.\n",
        "    '''\n",
        "\n",
        "    thresholds = np.sort(probabilities)\n",
        "\n",
        "    tprs = []\n",
        "    fprs = []\n",
        "\n",
        "    num_positive_cases = sum(labels)\n",
        "    num_negative_cases = len(labels) - num_positive_cases\n",
        "\n",
        "    for threshold in thresholds:\n",
        "        # With this threshold, give the prediction of each instance\n",
        "        predicted_positive = probabilities >= threshold\n",
        "        # Calculate the number of correctly predicted positive cases\n",
        "        true_positives = np.sum(predicted_positive * labels)\n",
        "        # Calculate the number of incorrectly predicted positive cases\n",
        "        false_positives = np.sum(predicted_positive) - true_positives\n",
        "        # Calculate the True Positive Rate\n",
        "        tpr = true_positives / float(num_positive_cases)\n",
        "        # Calculate the False Positive Rate\n",
        "        fpr = false_positives / float(num_negative_cases)\n",
        "\n",
        "        fprs.append(fpr)\n",
        "        tprs.append(tpr)\n",
        "    \n",
        "    return tprs, fprs, thresholds.tolist()\n",
        "\n",
        "def plot_roc(v_probs, y_test, title, xlabel, ylabel):\n",
        "    # ROC\n",
        "    fig = plt.figure(figsize = (8,6))\n",
        "    tpr, fpr, thresholds = roc_curve(v_probs, y_test)\n",
        "    \n",
        "    import sklearn.metrics as skm\n",
        "    auc = skm.roc_auc_score(y_test, v_probs)\n",
        "\n",
        "    plt.hold(True)\n",
        "    plt.plot(fpr, tpr)\n",
        "\n",
        "    # 45 degree line\n",
        "    xx = np.linspace(0, 1.0, 20)\n",
        "    plt.plot(xx, xx, 'k--')\n",
        "\n",
        "    plt.xlabel(xlabel)\n",
        "    plt.ylabel(ylabel)\n",
        "    plt.title(title)\n",
        "\n",
        "    plt.show()\n",
        "    fig.savefig(title+'.png')"
      ],
      "execution_count": 0,
      "outputs": []
    },
    {
      "cell_type": "code",
      "metadata": {
        "id": "HVvVAbdsCbPU",
        "colab_type": "code",
        "outputId": "afb5eb25-d1f2-4bd3-ca8b-edaff50484ff",
        "colab": {
          "base_uri": "https://localhost:8080/",
          "height": 35
        }
      },
      "source": [
        "roc_auc_score(Y_test, v_probs)"
      ],
      "execution_count": 59,
      "outputs": [
        {
          "output_type": "execute_result",
          "data": {
            "text/plain": [
              "0.5634066621416431"
            ]
          },
          "metadata": {
            "tags": []
          },
          "execution_count": 59
        }
      ]
    },
    {
      "cell_type": "code",
      "metadata": {
        "id": "Cs4WwZRqDo9C",
        "colab_type": "code",
        "outputId": "d163f285-1d2e-4260-c6cd-4d4858bee1b3",
        "colab": {
          "base_uri": "https://localhost:8080/",
          "height": 35
        }
      },
      "source": [
        "v_probs.shape"
      ],
      "execution_count": 60,
      "outputs": [
        {
          "output_type": "execute_result",
          "data": {
            "text/plain": [
              "(95685,)"
            ]
          },
          "metadata": {
            "tags": []
          },
          "execution_count": 60
        }
      ]
    },
    {
      "cell_type": "markdown",
      "metadata": {
        "id": "uYurLYET4KNZ",
        "colab_type": "text"
      },
      "source": [
        "**Decision Tree**"
      ]
    },
    {
      "cell_type": "code",
      "metadata": {
        "id": "-HcQU5Kw4C_5",
        "colab_type": "code",
        "colab": {
          "base_uri": "https://localhost:8080/",
          "height": 271
        },
        "outputId": "602939fa-1b38-4f51-f196-9bdcfe0808ea"
      },
      "source": [
        "#Random Forest Classifier\n",
        "from sklearn.ensemble import RandomForestClassifier\n",
        "rfc= RandomForestClassifier(n_estimators=1000, n_jobs=-1, class_weight='balanced', max_features=1, verbose=1)\n",
        "rfc.fit(X_train, Y_train)"
      ],
      "execution_count": 61,
      "outputs": [
        {
          "output_type": "stream",
          "text": [
            "[Parallel(n_jobs=-1)]: Using backend ThreadingBackend with 4 concurrent workers.\n",
            "[Parallel(n_jobs=-1)]: Done  42 tasks      | elapsed:    6.7s\n",
            "[Parallel(n_jobs=-1)]: Done 192 tasks      | elapsed:   28.3s\n",
            "[Parallel(n_jobs=-1)]: Done 442 tasks      | elapsed:  1.1min\n",
            "[Parallel(n_jobs=-1)]: Done 792 tasks      | elapsed:  1.9min\n",
            "[Parallel(n_jobs=-1)]: Done 1000 out of 1000 | elapsed:  2.3min finished\n"
          ],
          "name": "stderr"
        },
        {
          "output_type": "execute_result",
          "data": {
            "text/plain": [
              "RandomForestClassifier(bootstrap=True, ccp_alpha=0.0, class_weight='balanced',\n",
              "                       criterion='gini', max_depth=None, max_features=1,\n",
              "                       max_leaf_nodes=None, max_samples=None,\n",
              "                       min_impurity_decrease=0.0, min_impurity_split=None,\n",
              "                       min_samples_leaf=1, min_samples_split=2,\n",
              "                       min_weight_fraction_leaf=0.0, n_estimators=1000,\n",
              "                       n_jobs=-1, oob_score=False, random_state=None, verbose=1,\n",
              "                       warm_start=False)"
            ]
          },
          "metadata": {
            "tags": []
          },
          "execution_count": 61
        }
      ]
    },
    {
      "cell_type": "code",
      "metadata": {
        "id": "oFXWKR_kPVdW",
        "colab_type": "code",
        "colab": {
          "base_uri": "https://localhost:8080/",
          "height": 144
        },
        "outputId": "db217086-e54d-47fa-9f80-f50bd21b6412"
      },
      "source": [
        "rfc.score(X_test, Y_test)"
      ],
      "execution_count": 62,
      "outputs": [
        {
          "output_type": "stream",
          "text": [
            "[Parallel(n_jobs=4)]: Using backend ThreadingBackend with 4 concurrent workers.\n",
            "[Parallel(n_jobs=4)]: Done  42 tasks      | elapsed:    0.6s\n",
            "[Parallel(n_jobs=4)]: Done 192 tasks      | elapsed:    2.5s\n",
            "[Parallel(n_jobs=4)]: Done 442 tasks      | elapsed:    5.9s\n",
            "[Parallel(n_jobs=4)]: Done 792 tasks      | elapsed:   10.5s\n",
            "[Parallel(n_jobs=4)]: Done 1000 out of 1000 | elapsed:   13.3s finished\n"
          ],
          "name": "stderr"
        },
        {
          "output_type": "execute_result",
          "data": {
            "text/plain": [
              "0.7850237759314417"
            ]
          },
          "metadata": {
            "tags": []
          },
          "execution_count": 62
        }
      ]
    },
    {
      "cell_type": "code",
      "metadata": {
        "id": "zXCpARnSR7IR",
        "colab_type": "code",
        "colab": {
          "base_uri": "https://localhost:8080/",
          "height": 252
        },
        "outputId": "d70e96de-9aa4-4b77-f1af-793ebb09b602"
      },
      "source": [
        "pd.crosstab(Y_test, rfc.predict(X_test))"
      ],
      "execution_count": 63,
      "outputs": [
        {
          "output_type": "stream",
          "text": [
            "[Parallel(n_jobs=4)]: Using backend ThreadingBackend with 4 concurrent workers.\n",
            "[Parallel(n_jobs=4)]: Done  42 tasks      | elapsed:    0.6s\n",
            "[Parallel(n_jobs=4)]: Done 192 tasks      | elapsed:    2.5s\n",
            "[Parallel(n_jobs=4)]: Done 442 tasks      | elapsed:    5.9s\n",
            "[Parallel(n_jobs=4)]: Done 792 tasks      | elapsed:   10.5s\n",
            "[Parallel(n_jobs=4)]: Done 1000 out of 1000 | elapsed:   13.3s finished\n"
          ],
          "name": "stderr"
        },
        {
          "output_type": "execute_result",
          "data": {
            "text/html": [
              "<div>\n",
              "<style scoped>\n",
              "    .dataframe tbody tr th:only-of-type {\n",
              "        vertical-align: middle;\n",
              "    }\n",
              "\n",
              "    .dataframe tbody tr th {\n",
              "        vertical-align: top;\n",
              "    }\n",
              "\n",
              "    .dataframe thead th {\n",
              "        text-align: right;\n",
              "    }\n",
              "</style>\n",
              "<table border=\"1\" class=\"dataframe\">\n",
              "  <thead>\n",
              "    <tr style=\"text-align: right;\">\n",
              "      <th>col_0</th>\n",
              "      <th>False</th>\n",
              "      <th>True</th>\n",
              "    </tr>\n",
              "    <tr>\n",
              "      <th>row_0</th>\n",
              "      <th></th>\n",
              "      <th></th>\n",
              "    </tr>\n",
              "  </thead>\n",
              "  <tbody>\n",
              "    <tr>\n",
              "      <th>False</th>\n",
              "      <td>73505</td>\n",
              "      <td>1856</td>\n",
              "    </tr>\n",
              "    <tr>\n",
              "      <th>True</th>\n",
              "      <td>18714</td>\n",
              "      <td>1610</td>\n",
              "    </tr>\n",
              "  </tbody>\n",
              "</table>\n",
              "</div>"
            ],
            "text/plain": [
              "col_0  False  True \n",
              "row_0              \n",
              "False  73505   1856\n",
              "True   18714   1610"
            ]
          },
          "metadata": {
            "tags": []
          },
          "execution_count": 63
        }
      ]
    },
    {
      "cell_type": "code",
      "metadata": {
        "id": "uEHb_SqXR7LB",
        "colab_type": "code",
        "colab": {
          "base_uri": "https://localhost:8080/",
          "height": 144
        },
        "outputId": "7d116fb7-fd0a-4271-d4e1-5055427af26f"
      },
      "source": [
        "skm.roc_auc_score(Y_test, rfc.predict_proba(X_test)[:,1])"
      ],
      "execution_count": 64,
      "outputs": [
        {
          "output_type": "stream",
          "text": [
            "[Parallel(n_jobs=4)]: Using backend ThreadingBackend with 4 concurrent workers.\n",
            "[Parallel(n_jobs=4)]: Done  42 tasks      | elapsed:    0.6s\n",
            "[Parallel(n_jobs=4)]: Done 192 tasks      | elapsed:    2.5s\n",
            "[Parallel(n_jobs=4)]: Done 442 tasks      | elapsed:    5.9s\n",
            "[Parallel(n_jobs=4)]: Done 792 tasks      | elapsed:   10.5s\n",
            "[Parallel(n_jobs=4)]: Done 1000 out of 1000 | elapsed:   13.3s finished\n"
          ],
          "name": "stderr"
        },
        {
          "output_type": "execute_result",
          "data": {
            "text/plain": [
              "0.612381356382569"
            ]
          },
          "metadata": {
            "tags": []
          },
          "execution_count": 64
        }
      ]
    },
    {
      "cell_type": "code",
      "metadata": {
        "id": "JnPS75E6SRu0",
        "colab_type": "code",
        "colab": {
          "base_uri": "https://localhost:8080/",
          "height": 144
        },
        "outputId": "353377c0-ca83-4ae6-9127-1080d6ed4e1e"
      },
      "source": [
        "skm.recall_score(Y_test, rfc.predict(X_test))"
      ],
      "execution_count": 65,
      "outputs": [
        {
          "output_type": "stream",
          "text": [
            "[Parallel(n_jobs=4)]: Using backend ThreadingBackend with 4 concurrent workers.\n",
            "[Parallel(n_jobs=4)]: Done  42 tasks      | elapsed:    0.6s\n",
            "[Parallel(n_jobs=4)]: Done 192 tasks      | elapsed:    2.6s\n",
            "[Parallel(n_jobs=4)]: Done 442 tasks      | elapsed:    5.9s\n",
            "[Parallel(n_jobs=4)]: Done 792 tasks      | elapsed:   10.6s\n",
            "[Parallel(n_jobs=4)]: Done 1000 out of 1000 | elapsed:   13.3s finished\n"
          ],
          "name": "stderr"
        },
        {
          "output_type": "execute_result",
          "data": {
            "text/plain": [
              "0.07921668962802599"
            ]
          },
          "metadata": {
            "tags": []
          },
          "execution_count": 65
        }
      ]
    },
    {
      "cell_type": "code",
      "metadata": {
        "id": "zZvq5nAbSRxC",
        "colab_type": "code",
        "colab": {}
      },
      "source": [
        "def plot_importance(clf, X, max_features=10):\n",
        "    '''Plot feature importance'''\n",
        "    feature_importance = clf.feature_importances_\n",
        "    # make importances relative to max importance\n",
        "    feature_importance = 100.0 * (feature_importance / feature_importance.max())\n",
        "    sorted_idx = np.argsort(feature_importance)\n",
        "    pos = np.arange(sorted_idx.shape[0]) + .5\n",
        "    \n",
        "    # Show only top features\n",
        "    pos = pos[-max_features:]\n",
        "    feature_importance = (feature_importance[sorted_idx])[-max_features:]\n",
        "    feature_names = (X.columns[sorted_idx])[-max_features:]\n",
        "    \n",
        "    plt.barh(pos, feature_importance, align='center')\n",
        "    plt.yticks(pos, feature_names)\n",
        "    plt.xlabel('Relative Importance')\n",
        "    plt.title('Variable Importance')"
      ],
      "execution_count": 0,
      "outputs": []
    },
    {
      "cell_type": "code",
      "metadata": {
        "id": "Uh6Dm0FySiS2",
        "colab_type": "code",
        "colab": {
          "base_uri": "https://localhost:8080/",
          "height": 295
        },
        "outputId": "966c23ec-2971-47b3-ae09-6158131619a8"
      },
      "source": [
        "plot_importance(rfc, df_model, max_features=10)"
      ],
      "execution_count": 69,
      "outputs": [
        {
          "output_type": "display_data",
          "data": {
            "image/png": "[encoded data removed]",
            "text/plain": [
              "<Figure size 432x288 with 1 Axes>"
            ]
          },
          "metadata": {
            "tags": []
          }
        }
      ]
    }
  ]
}